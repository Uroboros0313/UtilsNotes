{
 "cells": [
  {
   "cell_type": "markdown",
   "metadata": {},
   "source": [
    "# 类方法"
   ]
  },
  {
   "cell_type": "code",
   "execution_count": 12,
   "metadata": {},
   "outputs": [
    {
     "name": "stdout",
     "output_type": "stream",
     "text": [
      "ins_1 2022-8-22 1\n",
      "ins_1 2022-8-22 1\n",
      "ins_2 2022-8-23 2\n",
      "ins_2 2022-8-23 2\n"
     ]
    }
   ],
   "source": [
    "class BaseCls:\n",
    "    name = None\n",
    "    create_date = None\n",
    "    instance_id = 0\n",
    "\n",
    "    def __init__(self, name, date, instance_id):\n",
    "        self.name = name\n",
    "        self.create_date = date\n",
    "        self.instance_id = instance_id\n",
    "\n",
    "    @classmethod\n",
    "    def create_instance(cls, create_cmd):\n",
    "        cls.name, cls.create_date = create_cmd.split(\",\")\n",
    "        cls.instance_id += 1\n",
    "        return cls(cls.name, cls.create_date, cls.instance_id)\n",
    "\n",
    "ins_1 = BaseCls.create_instance(\"ins_1,2022-8-22\")\n",
    "print(ins_1.name, ins_1.create_date, ins_1.instance_id)\n",
    "print(BaseCls.name, BaseCls.create_date, ins_1.instance_id)\n",
    "\n",
    "ins_2 = BaseCls.create_instance(\"ins_2,2022-8-23\")\n",
    "print(ins_2.name, ins_2.create_date, ins_2.instance_id)\n",
    "print(BaseCls.name, BaseCls.create_date, BaseCls.instance_id)"
   ]
  },
  {
   "cell_type": "markdown",
   "metadata": {},
   "source": [
    "# 静态方法"
   ]
  },
  {
   "cell_type": "code",
   "execution_count": 13,
   "metadata": {},
   "outputs": [
    {
     "name": "stdout",
     "output_type": "stream",
     "text": [
      "2\n",
      "2\n"
     ]
    }
   ],
   "source": [
    "class BaseCls:\n",
    "    def __init__(self):\n",
    "        pass\n",
    "\n",
    "    @staticmethod\n",
    "    def add(num_1, num_2):\n",
    "        return num_1 + num_2\n",
    "case = BaseCls\n",
    "print(case.add(1,1)) # 2\n",
    "print(BaseCls.add(1,1)) # 2"
   ]
  },
  {
   "cell_type": "markdown",
   "metadata": {},
   "source": [
    "# 抽象类和抽象方法"
   ]
  },
  {
   "cell_type": "code",
   "execution_count": 14,
   "metadata": {},
   "outputs": [
    {
     "name": "stdout",
     "output_type": "stream",
     "text": [
      "Can't instantiate abstract class BadInstanceClass with abstract methods basefunc\n"
     ]
    }
   ],
   "source": [
    "from abc import abstractmethod,ABC\n",
    "\n",
    "class BaseClass(ABC):\n",
    "    @abstractmethod\n",
    "    def basefunc(self):\n",
    "        print(\"basefunc implement\")\n",
    "\n",
    "class InstanceClass(BaseClass):\n",
    "    def basefunc(self):\n",
    "        print(\"instance implement\")\n",
    "\n",
    "class BadInstanceClass(BaseClass):\n",
    "    def badbasefunc(self):\n",
    "        print(\"instance bad implement\")\n",
    "\n",
    "instance = InstanceClass() # 可以实例化\n",
    "try:\n",
    "    bad_instance = BadInstanceClass() # 无法实例化\n",
    "    # TypeError: Can't instantiate abstract class BadInstanceClass with abstract methods basefunc   \n",
    "except TypeError:\n",
    "    print(\"Can't instantiate abstract class BadInstanceClass with abstract methods basefunc\")"
   ]
  },
  {
   "cell_type": "markdown",
   "metadata": {},
   "source": [
    "# Property"
   ]
  },
  {
   "cell_type": "code",
   "execution_count": 15,
   "metadata": {},
   "outputs": [
    {
     "name": "stdout",
     "output_type": "stream",
     "text": [
      "512.0\n",
      "1024.0\n",
      "BaseClass object has no attribute baseattr\n"
     ]
    }
   ],
   "source": [
    "class BaseClass:\n",
    "    def __init__(self):\n",
    "        self.baseattr = 1024\n",
    "        self.frac = 0.5\n",
    "    @property\n",
    "    def baseprop(self):\n",
    "        return self.baseattr * self.frac\n",
    "\n",
    "    @baseprop.setter\n",
    "    def baseprop(self, newattr):\n",
    "        self.baseattr = newattr\n",
    "\n",
    "    @baseprop.deleter\n",
    "    def baseprop(self):\n",
    "        del self.baseattr\n",
    "\n",
    "base_inst = BaseClass()\n",
    "print(base_inst.baseprop) # 512.0\n",
    "base_inst.baseprop = 2048\n",
    "print(base_inst.baseprop) # 1024.0\n",
    "del base_inst.baseprop\n",
    "try:\n",
    "    print(base_inst.baseprop) # 'BaseClass' object has no attribute 'baseattr'\n",
    "except AttributeError:\n",
    "    print('BaseClass object has no attribute baseattr')"
   ]
  }
 ],
 "metadata": {
  "kernelspec": {
   "display_name": "Python 3.7.0 ('torch')",
   "language": "python",
   "name": "python3"
  },
  "language_info": {
   "codemirror_mode": {
    "name": "ipython",
    "version": 3
   },
   "file_extension": ".py",
   "mimetype": "text/x-python",
   "name": "python",
   "nbconvert_exporter": "python",
   "pygments_lexer": "ipython3",
   "version": "3.7.0"
  },
  "orig_nbformat": 4,
  "vscode": {
   "interpreter": {
    "hash": "f31b5846fe4d0e510ff280a80fa1fd1567c5c662c3b99a86eb737e0309da4a2e"
   }
  }
 },
 "nbformat": 4,
 "nbformat_minor": 2
}
