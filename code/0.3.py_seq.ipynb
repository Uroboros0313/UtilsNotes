{
 "cells": [
  {
   "cell_type": "markdown",
   "metadata": {},
   "source": [
    "# filter/map"
   ]
  },
  {
   "cell_type": "code",
   "execution_count": 30,
   "metadata": {},
   "outputs": [
    {
     "name": "stdout",
     "output_type": "stream",
     "text": [
      "[115, 97, 100, 115, 97, 104, 94, 115, 104, 100]\n"
     ]
    }
   ],
   "source": [
    "symbols = \"sadsah9^&*%.shd*%\"\n",
    "beyond_ascii = filter(lambda c: c > 90, map(ord, symbols))\n",
    "print(list(beyond_ascii))"
   ]
  },
  {
   "cell_type": "markdown",
   "metadata": {},
   "source": [
    "# 迭代器"
   ]
  },
  {
   "cell_type": "code",
   "execution_count": 31,
   "metadata": {},
   "outputs": [
    {
     "name": "stdout",
     "output_type": "stream",
     "text": [
      "True\n",
      "list does not support `next()`\n",
      "False\n",
      "--------------------\n",
      "apply `iter()` on list\n",
      "0\n",
      "True\n"
     ]
    }
   ],
   "source": [
    "from collections.abc import Iterator, Iterable\n",
    "\n",
    "seq = list(range(10))\n",
    "print(isinstance(seq, Iterable))\n",
    "try:\n",
    "    next(seq)\n",
    "except:\n",
    "    print(\"list does not support `next()`\")\n",
    "print(isinstance(seq, Iterator))\n",
    "print(\"-\"*20)\n",
    "\n",
    "print(\"apply `iter()` on list\")\n",
    "seq = iter(seq)\n",
    "print(next(seq))\n",
    "print(isinstance(seq, Iterator))"
   ]
  },
  {
   "cell_type": "markdown",
   "metadata": {},
   "source": [
    "# 生成器"
   ]
  },
  {
   "cell_type": "code",
   "execution_count": 32,
   "metadata": {},
   "outputs": [
    {
     "name": "stdout",
     "output_type": "stream",
     "text": [
      "first way of generator\n",
      "--------------------\n",
      "0\n",
      "1\n",
      "4\n",
      "9\n",
      "16\n",
      "second way of generator\n",
      "--------------------\n",
      "0\n",
      "1\n",
      "4\n",
      "9\n",
      "16\n",
      "gen string `first`\n",
      "first\n",
      "gen string `second`\n",
      "second\n",
      "gen string `third`\n",
      "third\n",
      "[0, 1, 4, 9, 16]\n"
     ]
    }
   ],
   "source": [
    "print('first way of generator')    \n",
    "print('-' * 20)  \n",
    "gen = (i ** 2 for i in range(5))\n",
    "# print(list(gen))\n",
    "# list(generator)的方法会将所有生成器返回的所有值包括在一个列表内\n",
    "# 此时next执行到返回StopIteration, 再对gen执行for循环就不会返回值了\n",
    "for val in gen:\n",
    "    print(val)\n",
    "\n",
    "def gen_():\n",
    "    for i in range(5):\n",
    "        yield i ** 2\n",
    "\n",
    "def gen_print():\n",
    "    print(\"gen string `first`\")\n",
    "    yield \"first\"\n",
    "    print(\"gen string `second`\")\n",
    "    yield \"second\"\n",
    "    print(\"gen string `third`\")\n",
    "    yield \"third\"\n",
    "\n",
    "print('second way of generator')    \n",
    "print('-' * 20)    \n",
    "for val in gen_():\n",
    "    print(val)\n",
    "\n",
    "for val in gen_print():\n",
    "    print(val)\n",
    "\n",
    "print(list(gen_()))"
   ]
  },
  {
   "cell_type": "markdown",
   "metadata": {},
   "source": [
    "# 元组拆包"
   ]
  },
  {
   "cell_type": "code",
   "execution_count": 33,
   "metadata": {},
   "outputs": [
    {
     "name": "stdout",
     "output_type": "stream",
     "text": [
      "(0, 1)\n",
      "(0, 1)\n"
     ]
    }
   ],
   "source": [
    "args = (1,2)\n",
    "print(divmod(*args))\n",
    "print(divmod(1, 2))"
   ]
  },
  {
   "cell_type": "code",
   "execution_count": 2,
   "metadata": {},
   "outputs": [
    {
     "name": "stdout",
     "output_type": "stream",
     "text": [
      "[2, 3, 4]\n",
      "[3, 4, 5, 6, 7, 8]\n"
     ]
    }
   ],
   "source": [
    "a, b, *rest = range(5)\n",
    "print(rest)\n",
    "\n",
    "c, d, *res = (1,2,3,4,5,6,7,8)\n",
    "print(res)"
   ]
  },
  {
   "cell_type": "code",
   "execution_count": 3,
   "metadata": {},
   "outputs": [
    {
     "name": "stdout",
     "output_type": "stream",
     "text": [
      "3 4\n"
     ]
    }
   ],
   "source": [
    "a, b, (c, d) = (1, 2, (3, 4))\n",
    "print(c, d)"
   ]
  },
  {
   "cell_type": "code",
   "execution_count": null,
   "metadata": {},
   "outputs": [],
   "source": []
  }
 ],
 "metadata": {
  "kernelspec": {
   "display_name": "Python 3.7.0 ('torch')",
   "language": "python",
   "name": "python3"
  },
  "language_info": {
   "codemirror_mode": {
    "name": "ipython",
    "version": 3
   },
   "file_extension": ".py",
   "mimetype": "text/x-python",
   "name": "python",
   "nbconvert_exporter": "python",
   "pygments_lexer": "ipython3",
   "version": "3.7.0"
  },
  "orig_nbformat": 4,
  "vscode": {
   "interpreter": {
    "hash": "f31b5846fe4d0e510ff280a80fa1fd1567c5c662c3b99a86eb737e0309da4a2e"
   }
  }
 },
 "nbformat": 4,
 "nbformat_minor": 2
}
