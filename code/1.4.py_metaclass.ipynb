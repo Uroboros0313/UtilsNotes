{
 "cells": [
  {
   "cell_type": "markdown",
   "metadata": {},
   "source": [
    "# 动态创建类"
   ]
  },
  {
   "cell_type": "code",
   "execution_count": 38,
   "metadata": {},
   "outputs": [
    {
     "name": "stdout",
     "output_type": "stream",
     "text": [
      "0\n",
      "0\n",
      "1\n",
      "1\n"
     ]
    }
   ],
   "source": [
    "def __init__(self, ins_id):\n",
    "    self.ins_id = ins_id\n",
    "\n",
    "@classmethod\n",
    "def create_ins(cls):\n",
    "    cls.ins_id += 1\n",
    "    return cls(cls.ins_id)\n",
    "\n",
    "BaseCls = type(\"BaseCls\",(),{\"name\":\"base_cls\",\n",
    "                   \"create_date\":\"2022-08-23\",\n",
    "                   \"ins_id\":0,\n",
    "                   \"__init__\":__init__,\n",
    "                   \"create_ins\":create_ins})\n",
    "\n",
    "base_ins_0 = BaseCls(0)\n",
    "print(base_ins_0.ins_id)\n",
    "print(BaseCls.ins_id)\n",
    "\n",
    "base_ins_1 = BaseCls.create_ins()\n",
    "print(base_ins_1.ins_id)\n",
    "print(BaseCls.ins_id)"
   ]
  },
  {
   "cell_type": "markdown",
   "metadata": {},
   "source": [
    "# `type`元类"
   ]
  },
  {
   "cell_type": "code",
   "execution_count": 39,
   "metadata": {},
   "outputs": [
    {
     "name": "stdout",
     "output_type": "stream",
     "text": [
      "<class 'type'>\n",
      "<class '__main__.BaseCls'>\n",
      "<class 'type'>\n"
     ]
    }
   ],
   "source": [
    "class BaseCls:\n",
    "    def BaseOp(self):\n",
    "        pass\n",
    "\n",
    "print(BaseCls.__class__)\n",
    "base_case = BaseCls()\n",
    "print(base_case.__class__)\n",
    "print(base_case.__class__.__class__)"
   ]
  },
  {
   "cell_type": "code",
   "execution_count": 40,
   "metadata": {},
   "outputs": [
    {
     "name": "stdout",
     "output_type": "stream",
     "text": [
      "<class 'type'>\n",
      "<class 'type'>\n"
     ]
    }
   ],
   "source": [
    "print(str.__class__)\n",
    "print(int.__class__)"
   ]
  },
  {
   "cell_type": "markdown",
   "metadata": {},
   "source": [
    "# 自定义元类"
   ]
  },
  {
   "cell_type": "markdown",
   "metadata": {},
   "source": [
    "## Python3创建元类"
   ]
  },
  {
   "cell_type": "code",
   "execution_count": 42,
   "metadata": {},
   "outputs": [
    {
     "name": "stdout",
     "output_type": "stream",
     "text": [
      "{'__module__': '__main__', '__qualname__': 'BaseCls', '_private': 'private', 'PUBLIC': 'public'}\n",
      "False\n",
      "True\n",
      "True\n"
     ]
    }
   ],
   "source": [
    "def upper_attrs(cls_name, cls_parents, cls_attrs):\n",
    "    upper_cls_attrs = {\n",
    "        attr if attr.startswith(\"_\") else attr.upper() : v\n",
    "        for attr, v in cls_attrs.items()\n",
    "    }\n",
    "    print(upper_cls_attrs)\n",
    "\n",
    "    return type(cls_name, cls_parents, upper_cls_attrs)\n",
    "\n",
    "# python3 style\n",
    "class BaseCls(metaclass = upper_attrs):\n",
    "    _private = \"private\"\n",
    "    public = \"public\"\n",
    "\n",
    "print(hasattr(BaseCls, \"public\"))\n",
    "print(hasattr(BaseCls, \"PUBLIC\"))\n",
    "print(hasattr(BaseCls, \"_private\"))"
   ]
  },
  {
   "cell_type": "code",
   "execution_count": null,
   "metadata": {},
   "outputs": [],
   "source": [
    "# TODO: \n",
    "# 1. python2创建元类 \n",
    "# 2. 元类的运行逻辑与作用域(主要是2,带过就好)"
   ]
  }
 ],
 "metadata": {
  "kernelspec": {
   "display_name": "Python 3.7.0 ('torch')",
   "language": "python",
   "name": "python3"
  },
  "language_info": {
   "codemirror_mode": {
    "name": "ipython",
    "version": 3
   },
   "file_extension": ".py",
   "mimetype": "text/x-python",
   "name": "python",
   "nbconvert_exporter": "python",
   "pygments_lexer": "ipython3",
   "version": "3.7.0"
  },
  "orig_nbformat": 4,
  "vscode": {
   "interpreter": {
    "hash": "f31b5846fe4d0e510ff280a80fa1fd1567c5c662c3b99a86eb737e0309da4a2e"
   }
  }
 },
 "nbformat": 4,
 "nbformat_minor": 2
}
