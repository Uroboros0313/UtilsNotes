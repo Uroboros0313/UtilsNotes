{
 "cells": [
  {
   "cell_type": "markdown",
   "metadata": {},
   "source": [
    "# 动态创建类"
   ]
  },
  {
   "cell_type": "code",
   "execution_count": 21,
   "metadata": {},
   "outputs": [
    {
     "name": "stdout",
     "output_type": "stream",
     "text": [
      "0\n",
      "0\n",
      "1\n",
      "1\n"
     ]
    }
   ],
   "source": [
    "def __init__(self, ins_id):\n",
    "    self.ins_id = ins_id\n",
    "\n",
    "@classmethod\n",
    "def create_ins(cls):\n",
    "    cls.ins_id += 1\n",
    "    return cls(cls.ins_id)\n",
    "\n",
    "BaseCls = type(\"BaseCls\",(),{\"name\":\"base_cls\",\n",
    "                   \"create_date\":\"2022-08-23\",\n",
    "                   \"ins_id\":0,\n",
    "                   \"__init__\":__init__,\n",
    "                   \"create_ins\":create_ins})\n",
    "\n",
    "base_ins_0 = BaseCls(0)\n",
    "print(base_ins_0.ins_id)\n",
    "print(BaseCls.ins_id)\n",
    "\n",
    "base_ins_1 = BaseCls.create_ins()\n",
    "print(base_ins_1.ins_id)\n",
    "print(BaseCls.ins_id)"
   ]
  },
  {
   "cell_type": "markdown",
   "metadata": {},
   "source": [
    "# `type`元类"
   ]
  },
  {
   "cell_type": "code",
   "execution_count": 22,
   "metadata": {},
   "outputs": [
    {
     "name": "stdout",
     "output_type": "stream",
     "text": [
      "<class 'type'>\n",
      "<class '__main__.BaseCls'>\n",
      "<class 'type'>\n"
     ]
    }
   ],
   "source": [
    "class BaseCls:\n",
    "    def BaseOp(self):\n",
    "        pass\n",
    "\n",
    "print(BaseCls.__class__)\n",
    "base_case = BaseCls()\n",
    "print(base_case.__class__)\n",
    "print(base_case.__class__.__class__)"
   ]
  },
  {
   "cell_type": "code",
   "execution_count": 23,
   "metadata": {},
   "outputs": [
    {
     "name": "stdout",
     "output_type": "stream",
     "text": [
      "<class 'type'>\n",
      "<class 'type'>\n"
     ]
    }
   ],
   "source": [
    "print(str.__class__)\n",
    "print(int.__class__)"
   ]
  },
  {
   "cell_type": "markdown",
   "metadata": {},
   "source": [
    "# 自定义元类"
   ]
  },
  {
   "cell_type": "markdown",
   "metadata": {},
   "source": [
    "## Python3创建元类\n",
    "\n",
    "### 函数作为metaclass"
   ]
  },
  {
   "cell_type": "code",
   "execution_count": 24,
   "metadata": {},
   "outputs": [
    {
     "name": "stdout",
     "output_type": "stream",
     "text": [
      "{'__module__': '__main__', '__qualname__': 'BaseCls', '_private': 'private', 'PUBLIC': 'public'}\n",
      "False\n",
      "True\n",
      "True\n"
     ]
    }
   ],
   "source": [
    "def upper_attrs(cls_name, cls_parents, cls_attrs):\n",
    "    upper_cls_attrs = {\n",
    "        attr if attr.startswith(\"_\") else attr.upper() : v\n",
    "        for attr, v in cls_attrs.items()\n",
    "    }\n",
    "    print(upper_cls_attrs)\n",
    "\n",
    "    return type(cls_name, cls_parents, upper_cls_attrs)\n",
    "\n",
    "# python3 style\n",
    "class BaseCls(metaclass = upper_attrs):\n",
    "    _private = \"private\"\n",
    "    public = \"public\"\n",
    "\n",
    "print(hasattr(BaseCls, \"public\"))\n",
    "print(hasattr(BaseCls, \"PUBLIC\"))\n",
    "print(hasattr(BaseCls, \"_private\"))"
   ]
  },
  {
   "cell_type": "markdown",
   "metadata": {},
   "source": [
    "### python类创建元类"
   ]
  },
  {
   "cell_type": "markdown",
   "metadata": {},
   "source": [
    "### example_1"
   ]
  },
  {
   "cell_type": "code",
   "execution_count": 25,
   "metadata": {},
   "outputs": [
    {
     "name": "stdout",
     "output_type": "stream",
     "text": [
      "<BaseCls> implements\n",
      "metaclass UpperAttrs.__new__ init\n",
      "False\n",
      "True\n",
      "True\n"
     ]
    }
   ],
   "source": [
    "class UpperAttrs(type):\n",
    "    def __new__(cls, clsname, bases, attrs):\n",
    "        upper_attrs = {\n",
    "            attr if attr.startswith(\"_\") else attr.upper(): v \n",
    "            for attr, v in attrs.items()\n",
    "        }\n",
    "        print(f\"metaclass {cls.__name__}.__new__ init\")\n",
    "\n",
    "        #return type(clsname, bases, upper_attrs) # this method do not rewrite `__new__`\n",
    "        #return type.__new__(cls, clsname, bases, upper_attrs)\n",
    "        # using `super()` is cleaner way\n",
    "        return super().__new__(cls, clsname, bases, upper_attrs)\n",
    "\n",
    "print(\"<BaseCls> implements\")\n",
    "class BaseCls(metaclass = UpperAttrs):\n",
    "    _private = \"private\"\n",
    "    public = \"public\"\n",
    "\n",
    "print(hasattr(BaseCls, \"public\"))\n",
    "print(hasattr(BaseCls, \"PUBLIC\"))\n",
    "print(hasattr(BaseCls, \"_private\"))"
   ]
  },
  {
   "cell_type": "markdown",
   "metadata": {},
   "source": [
    "### example_2"
   ]
  },
  {
   "cell_type": "code",
   "execution_count": 26,
   "metadata": {},
   "outputs": [
    {
     "name": "stdout",
     "output_type": "stream",
     "text": [
      "MetaCls __new__ runs\n",
      "cls:<class '__main__.MetaCls'>\n",
      "attrs:{'__module__': '__main__', '__qualname__': 'SubCls', 'sub_name': 'sub_name', 'sub_attr': 'sub_attr', '__init__': <function SubCls.__init__ at 0x0000021B4B032840>}\n",
      "----------------------------------------\n",
      "MetaCls __init__ runs\n",
      "cls:<class '__main__.SubCls'>\n",
      "attrs:{'__module__': '__main__', '__qualname__': 'SubCls', 'sub_name': 'sub_name', 'sub_attr': 'sub_attr', '__init__': <function SubCls.__init__ at 0x0000021B4B032840>}\n",
      "----------------------------------------\n",
      "<Finish SubCls generation>\n",
      "----------------------------------------\n",
      "MetaCls __call__ runs\n",
      "MetaCls call attrs: (), {'tag': '<obj>'}\n",
      "----------------------------------------\n",
      "Subcls __init__ <obj> here\n",
      "----------------------------------------\n"
     ]
    }
   ],
   "source": [
    "class MetaCls(type):\n",
    "    def __new__(cls, name, bases, attrs):\n",
    "        print(\"MetaCls __new__ runs\")\n",
    "        print(\"cls:{}\".format(cls))\n",
    "        print(\"attrs:{}\".format(attrs))\n",
    "        print(\"-\" * 40)\n",
    "        return super().__new__(cls, name, bases, attrs)\n",
    "        \n",
    "    def __init__(cls, name, bases, attrs):\n",
    "        print(\"MetaCls __init__ runs\")\n",
    "        print(\"cls:{}\".format(cls))\n",
    "        print(\"attrs:{}\".format(attrs))\n",
    "        print(\"-\" * 40)\n",
    "\n",
    "        return super().__init__(name, bases, attrs)\n",
    "    \n",
    "    def __call__(cls, *args, **kwargs):\n",
    "        print(\"MetaCls __call__ runs\")\n",
    "        print(\"MetaCls call attrs: {}, {}\".format(args, kwargs))\n",
    "        print(\"-\" * 40)\n",
    "\n",
    "        obj = cls.__new__(cls)\n",
    "        cls.__init__(obj,*args, **kwargs)\n",
    "\n",
    "        return obj\n",
    "\n",
    "class SubCls(metaclass = MetaCls):\n",
    "    sub_name = \"sub_name\"\n",
    "    sub_attr = \"sub_attr\"\n",
    "    def __init__(self, tag = \"<Subcls>\"):\n",
    "        print(\"Subcls __init__ {} here\".format(tag))\n",
    "        print(\"-\" * 40)\n",
    "\n",
    "print(\"<Finish SubCls generation>\")\n",
    "print(\"-\" * 40)\n",
    "\n",
    "obj = SubCls(tag=\"<obj>\")"
   ]
  },
  {
   "cell_type": "markdown",
   "metadata": {},
   "source": [
    "## `__instancecheck__`"
   ]
  },
  {
   "cell_type": "code",
   "execution_count": 27,
   "metadata": {},
   "outputs": [
    {
     "name": "stdout",
     "output_type": "stream",
     "text": [
      "False\n",
      "cls.__instancecheck__ runs\n",
      "True\n"
     ]
    }
   ],
   "source": [
    "class BaseCls():\n",
    "    def __instancecheck__(self, instance):\n",
    "        print(\"cls.__instancecheck__ runs\")\n",
    "        return True\n",
    "\n",
    "print(isinstance(str, BaseCls))\n",
    "print(isinstance(str, BaseCls()))"
   ]
  },
  {
   "cell_type": "code",
   "execution_count": 28,
   "metadata": {},
   "outputs": [
    {
     "name": "stdout",
     "output_type": "stream",
     "text": [
      "True\n",
      "True\n",
      "False\n"
     ]
    }
   ],
   "source": [
    "class MetaType(type):\n",
    "    def __instancecheck__(cls, instance):\n",
    "        if hasattr(instance, \"base_attr\"):\n",
    "            return True\n",
    "        else:\n",
    "            return False\n",
    "    \n",
    "class BaseType(metaclass = MetaType):\n",
    "    def __init__(self):\n",
    "        self.base_attr = None\n",
    "\n",
    "base_type = BaseType()\n",
    "\n",
    "class ComparedType():\n",
    "    def __init__(self):\n",
    "        self.base_attr = None\n",
    "\n",
    "comp_type = ComparedType()\n",
    "\n",
    "print(isinstance(base_type, BaseType))\n",
    "print(isinstance(comp_type, BaseType))\n",
    "del comp_type.base_attr\n",
    "print(isinstance(comp_type, BaseType))"
   ]
  },
  {
   "cell_type": "markdown",
   "metadata": {},
   "source": [
    "## `__subclasscheck__`"
   ]
  },
  {
   "cell_type": "code",
   "execution_count": 32,
   "metadata": {},
   "outputs": [
    {
     "name": "stdout",
     "output_type": "stream",
     "text": [
      "True\n"
     ]
    }
   ],
   "source": [
    "class MetaType(type):\n",
    "    def __subclasscheck__(cls, subcls):\n",
    "        if super().__subclasscheck__(subcls) and hasattr(subcls, \"is_sub\"):\n",
    "            return True\n",
    "        else:\n",
    "            return False\n",
    "\n",
    "class BaseCls(metaclass = MetaType):\n",
    "    pass\n",
    "\n",
    "class SubCls(BaseCls):\n",
    "    is_sub = None\n",
    "\n",
    "print(issubclass(SubCls, BaseCls))"
   ]
  },
  {
   "cell_type": "code",
   "execution_count": 31,
   "metadata": {},
   "outputs": [
    {
     "data": {
      "text/plain": [
       "True"
      ]
     },
     "execution_count": 31,
     "metadata": {},
     "output_type": "execute_result"
    }
   ],
   "source": [
    "hasattr(SubCls, \"is_sub\")"
   ]
  },
  {
   "cell_type": "markdown",
   "metadata": {},
   "source": [
    "# 元类应用"
   ]
  },
  {
   "cell_type": "code",
   "execution_count": 30,
   "metadata": {},
   "outputs": [
    {
     "name": "stdout",
     "output_type": "stream",
     "text": [
      "cannot return new cls without method `fit()`\n"
     ]
    }
   ],
   "source": [
    "class MetaModel(type):\n",
    "    def __new__(cls, name, bases, attrs):\n",
    "        if name != \"Model\":\n",
    "            if attrs.get(\"fit\",None) != None:\n",
    "                if  callable(attrs.get(\"fit\",None)):\n",
    "                    return super().__new__(cls, name, bases, attrs)\n",
    "        else:\n",
    "            return super().__new__(cls, name, bases, attrs)\n",
    "        \n",
    "        raise ValueError(\"Model Should implement fit() method.\")\n",
    "\n",
    "class Model(metaclass = MetaModel):\n",
    "    def fit_transform(self):\n",
    "        pass \n",
    "\n",
    "try:\n",
    "    class SubModel(Model):\n",
    "        def fit_transform(self):\n",
    "            pass\n",
    "except:\n",
    "    print(\"cannot return new cls without method `fit()`\")\n"
   ]
  }
 ],
 "metadata": {
  "kernelspec": {
   "display_name": "Python 3.7.0 ('torch')",
   "language": "python",
   "name": "python3"
  },
  "language_info": {
   "codemirror_mode": {
    "name": "ipython",
    "version": 3
   },
   "file_extension": ".py",
   "mimetype": "text/x-python",
   "name": "python",
   "nbconvert_exporter": "python",
   "pygments_lexer": "ipython3",
   "version": "3.7.0"
  },
  "orig_nbformat": 4,
  "vscode": {
   "interpreter": {
    "hash": "f31b5846fe4d0e510ff280a80fa1fd1567c5c662c3b99a86eb737e0309da4a2e"
   }
  }
 },
 "nbformat": 4,
 "nbformat_minor": 2
}
