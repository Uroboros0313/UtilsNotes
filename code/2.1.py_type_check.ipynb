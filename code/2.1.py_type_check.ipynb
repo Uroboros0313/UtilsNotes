{
 "cells": [
  {
   "cell_type": "markdown",
   "metadata": {},
   "source": [
    "# typing.overload\n",
    "\n",
    "## python的重写"
   ]
  },
  {
   "cell_type": "code",
   "execution_count": 3,
   "metadata": {},
   "outputs": [
    {
     "name": "stdout",
     "output_type": "stream",
     "text": [
      "first func id:2039019207672\n",
      "second func id:2039019207808\n"
     ]
    }
   ],
   "source": [
    "def func():\n",
    "    print(\"first func\")\n",
    "\n",
    "print(\"first func id:{}\".format(id(func)))\n",
    "\n",
    "def func():\n",
    "    print(\"override the previous func\")\n",
    "\n",
    "print(\"second func id:{}\".format(id(func)))"
   ]
  },
  {
   "cell_type": "code",
   "execution_count": 4,
   "metadata": {},
   "outputs": [
    {
     "name": "stdout",
     "output_type": "stream",
     "text": [
      "test_1\n",
      "['test_2', 'test_2']\n",
      "['test_3']\n"
     ]
    }
   ],
   "source": [
    "from typing import overload\n",
    "\n",
    "class BaseCls:\n",
    "    @overload\n",
    "    def basefunc(self, value:str, repeat_num:int) -> list:\n",
    "        ...\n",
    "    \n",
    "    @overload\n",
    "    def basefunc(self, value:str, ) -> str:\n",
    "        ...\n",
    "\n",
    "    def basefunc(self, value, repeat_num = None):\n",
    "        if isinstance(repeat_num, int) and repeat_num > 0:\n",
    "            return [value] * repeat_num\n",
    "        if isinstance(repeat_num, int) and repeat_num <= 0:\n",
    "            return [value]\n",
    "\n",
    "        return value\n",
    "\n",
    "base_instance = BaseCls()\n",
    "print(base_instance.basefunc(\"test_1\"))\n",
    "print(base_instance.basefunc(\"test_2\", 2))\n",
    "print(base_instance.basefunc(\"test_3\", -20))"
   ]
  },
  {
   "cell_type": "code",
   "execution_count": null,
   "metadata": {},
   "outputs": [],
   "source": []
  }
 ],
 "metadata": {
  "kernelspec": {
   "display_name": "Python 3.7.0 ('torch')",
   "language": "python",
   "name": "python3"
  },
  "language_info": {
   "codemirror_mode": {
    "name": "ipython",
    "version": 3
   },
   "file_extension": ".py",
   "mimetype": "text/x-python",
   "name": "python",
   "nbconvert_exporter": "python",
   "pygments_lexer": "ipython3",
   "version": "3.7.0"
  },
  "orig_nbformat": 4,
  "vscode": {
   "interpreter": {
    "hash": "f31b5846fe4d0e510ff280a80fa1fd1567c5c662c3b99a86eb737e0309da4a2e"
   }
  }
 },
 "nbformat": 4,
 "nbformat_minor": 2
}
