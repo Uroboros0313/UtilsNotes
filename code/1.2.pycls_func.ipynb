{
 "cells": [
  {
   "cell_type": "markdown",
   "metadata": {},
   "source": [
    "# 魔术方法"
   ]
  },
  {
   "cell_type": "markdown",
   "metadata": {},
   "source": [
    "## `__new__`"
   ]
  },
  {
   "cell_type": "code",
   "execution_count": 12,
   "metadata": {},
   "outputs": [
    {
     "name": "stdout",
     "output_type": "stream",
     "text": [
      "rewrite `__new__` to print INFO\n",
      "`__init__` runs after `__new__`\n"
     ]
    },
    {
     "data": {
      "text/plain": [
       "<__main__.BaseCls at 0x20a51715518>"
      ]
     },
     "execution_count": 12,
     "metadata": {},
     "output_type": "execute_result"
    }
   ],
   "source": [
    "class BaseCls:\n",
    "    def __init__(self):\n",
    "        print(\"`__init__` runs after `__new__`\")\n",
    "        \n",
    "    def __new__(cls, *args, **kwargs):\n",
    "        print(\"rewrite `__new__` to print INFO\")\n",
    "        return super().__new__(cls,*args,**kwargs)\n",
    "\n",
    "base_cls = BaseCls()\n",
    "base_cls"
   ]
  },
  {
   "cell_type": "markdown",
   "metadata": {},
   "source": [
    "## `__call__`"
   ]
  },
  {
   "cell_type": "code",
   "execution_count": 13,
   "metadata": {},
   "outputs": [
    {
     "name": "stdout",
     "output_type": "stream",
     "text": [
      "call CLS instance as func\n"
     ]
    }
   ],
   "source": [
    "class BaseCls:\n",
    "    def __init__(self):\n",
    "        pass\n",
    "\n",
    "    def __call__(self, *args, **kwargs):\n",
    "        print(\"call CLS instance as func\")\n",
    "\n",
    "base_cls = BaseCls()\n",
    "base_cls()"
   ]
  },
  {
   "cell_type": "markdown",
   "metadata": {},
   "source": [
    "## `__len__`"
   ]
  },
  {
   "cell_type": "code",
   "execution_count": 14,
   "metadata": {},
   "outputs": [
    {
     "name": "stdout",
     "output_type": "stream",
     "text": [
      "rewrite `__len__` func\n",
      "48\n"
     ]
    }
   ],
   "source": [
    "from collections import defaultdict\n",
    "\n",
    "class Query2KeyValueType():\n",
    "    def __init__(self):\n",
    "        self.q2kv_dict = defaultdict(dict)\n",
    "    \n",
    "    def __len__(self):\n",
    "        print(\"rewrite `__len__` func\")\n",
    "        value_count = 0\n",
    "        for kv in self.q2kv_dict.values():\n",
    "            for v in kv.values():\n",
    "                value_count += len(v)\n",
    "        return value_count\n",
    "\n",
    "q2kv = Query2KeyValueType()\n",
    "for i in range(3):\n",
    "    for j in range(4):\n",
    "        q2kv.q2kv_dict[i][j]=list(range(4))\n",
    "print(len(q2kv))"
   ]
  },
  {
   "cell_type": "markdown",
   "metadata": {},
   "source": [
    "## `__repr__/__str__`"
   ]
  },
  {
   "cell_type": "code",
   "execution_count": 15,
   "metadata": {},
   "outputs": [
    {
     "name": "stdout",
     "output_type": "stream",
     "text": [
      "<__main__.StructDict object at 0x0000020A50FF75C0>\n",
      "StructDict\n",
      "StructDict(struct(key:0,value:0),struct(key:1,value:1),struct(key:2,value:4))\n",
      "StructDict\n"
     ]
    },
    {
     "data": {
      "text/plain": [
       "StructDict(struct(key:0,value:0),struct(key:1,value:1),struct(key:2,value:4))"
      ]
     },
     "execution_count": 15,
     "metadata": {},
     "output_type": "execute_result"
    }
   ],
   "source": [
    "class StructDict():\n",
    "    def __init__(self,):\n",
    "        self.struct_dict = dict()\n",
    "        \n",
    "    def __getitem__(self,key):\n",
    "        return self.struct_dict.get(key, None)\n",
    "\n",
    "\n",
    "class StructPrinter(StructDict):\n",
    "    def __init__(self,):\n",
    "        super().__init__()\n",
    "    \n",
    "    def __repr__(self,):\n",
    "        content = ','.join([f'struct(key:{k},value:{v})' for k,v in self.struct_dict.items()])\n",
    "        return f\"StructDict({content})\"\n",
    "    \n",
    "    def __str__(self,):\n",
    "        return \"StructDict\"\n",
    "\n",
    "udd_1 = StructDict()\n",
    "udd_1.struct_dict = dict([(key, key**2) for key in range(10)])\n",
    "udd_2 = StructPrinter()\n",
    "udd_2.struct_dict = dict([(key, key**2) for key in range(3)])\n",
    "print(udd_1)\n",
    "print(udd_2)\n",
    "print(repr(udd_2))\n",
    "print(str(udd_2))\n",
    "udd_2"
   ]
  },
  {
   "cell_type": "markdown",
   "metadata": {},
   "source": [
    "## `__eq__`"
   ]
  },
  {
   "cell_type": "code",
   "execution_count": 16,
   "metadata": {},
   "outputs": [
    {
     "name": "stdout",
     "output_type": "stream",
     "text": [
      "rewrite `__eq__`, determine how to evaluate if `self == obj`\n",
      "True\n"
     ]
    }
   ],
   "source": [
    "class BaseCls:\n",
    "    def __init__(self, value = 1):\n",
    "        self.value = value\n",
    "    def __eq__(self,obj):\n",
    "        print(\"rewrite `__eq__`, determine how to evaluate if `self == obj`\")\n",
    "        return self.value ** 2 == obj.value ** 2\n",
    "\n",
    "case_1 = BaseCls(value = 1)\n",
    "case_2 = BaseCls(value = -1)\n",
    "print(case_1 == case_2)"
   ]
  },
  {
   "cell_type": "markdown",
   "metadata": {},
   "source": [
    "## `__hash__`"
   ]
  },
  {
   "cell_type": "code",
   "execution_count": 17,
   "metadata": {},
   "outputs": [
    {
     "name": "stdout",
     "output_type": "stream",
     "text": [
      "rewrite `__hash__`, use cls name to calculate hash value\n",
      "-6338320178204663936\n"
     ]
    }
   ],
   "source": [
    "class BaseCls:\n",
    "    def __init__(self,value = 1):\n",
    "        self.value = value\n",
    "    def __hash__(self):\n",
    "        print(\"rewrite `__hash__`, use cls name to calculate hash value\")\n",
    "        return hash(self.__class__.__name__)\n",
    "\n",
    "case = BaseCls()\n",
    "print(hash(case))"
   ]
  },
  {
   "cell_type": "markdown",
   "metadata": {},
   "source": [
    "## `__getitem__`"
   ]
  },
  {
   "cell_type": "code",
   "execution_count": 18,
   "metadata": {},
   "outputs": [
    {
     "name": "stdout",
     "output_type": "stream",
     "text": [
      "1\n",
      "81\n"
     ]
    }
   ],
   "source": [
    "class StructDict():\n",
    "    def __init__(self,):\n",
    "        self.struct_dict = dict()\n",
    "        \n",
    "    def __getitem__(self,key):\n",
    "        return self.struct_dict.get(key, None)\n",
    "\n",
    "udd_1 = StructDict()\n",
    "udd_1.struct_dict = dict([(key, key**2) for key in range(10)])\n",
    "print(udd_1[1])\n",
    "print(udd_1[9])"
   ]
  },
  {
   "cell_type": "markdown",
   "metadata": {},
   "source": [
    "## `__setitem__`"
   ]
  },
  {
   "cell_type": "code",
   "execution_count": 19,
   "metadata": {},
   "outputs": [
    {
     "name": "stdout",
     "output_type": "stream",
     "text": [
      "StructType( <1> )\n",
      "StructType( <6561> )\n"
     ]
    }
   ],
   "source": [
    "class StructType():\n",
    "    def __init__(self, value: int = 10):\n",
    "        self.value = value ** 2\n",
    "    \n",
    "    def __repr__(self):\n",
    "        return f\"StructType( <{self.value}> )\"\n",
    "\n",
    "class StructDict():\n",
    "    def __init__(self,):\n",
    "        self.__struct_dict = dict()\n",
    "\n",
    "    def __getitem__(self,key):\n",
    "        return self.__struct_dict.get(key, None)\n",
    "\n",
    "    def __setitem__(self, key, value):\n",
    "        self.__struct_dict[key] = StructType(value)\n",
    "\n",
    "udd = StructDict()\n",
    "for key in range(10):\n",
    "    udd[key] = key ** 2\n",
    "print(udd[1])\n",
    "print(udd[9])\n",
    "# StructType( <1> )\n",
    "# StructType( <6561> )"
   ]
  },
  {
   "cell_type": "markdown",
   "metadata": {},
   "source": [
    "## `__iter__`,`__next__`,`__delitem__`,`__delattr__`"
   ]
  },
  {
   "cell_type": "code",
   "execution_count": 20,
   "metadata": {},
   "outputs": [
    {
     "name": "stdout",
     "output_type": "stream",
     "text": [
      "54\n",
      "\n",
      "-------------------------------------\n",
      "Description:\n",
      "UroborosPoker Class defined by <Uroboros/Lisuchi>\n",
      "\"spade > diamond > heart > club\"\n",
      "-------------------------------------\n",
      "    \n",
      "__pokers is private attrs\n",
      "-------------------------------------\n",
      "random choice in pokers\n",
      "UroborosCard(rank<5>,suit<heart>)\n",
      "-------------------------------------\n",
      "shuffle pokers\n",
      "[UroborosCard(rank<3>,suit<spade>), UroborosCard(rank<3>,suit<diamond>), UroborosCard(rank<3>,suit<heart>), UroborosCard(rank<3>,suit<club>), UroborosCard(rank<4>,suit<spade>), UroborosCard(rank<4>,suit<diamond>)]\n",
      "[UroborosCard(rank<10>,suit<spade>), UroborosCard(rank<A>,suit<club>), UroborosCard(rank<A>,suit<diamond>), UroborosCard(rank<5>,suit<spade>), UroborosCard(rank<4>,suit<heart>), UroborosCard(rank<3>,suit<heart>)]\n",
      "-------------------------------------\n",
      "sorted pokers\n",
      "[UroborosCard(rank<3>,suit<spade>), UroborosCard(rank<3>,suit<diamond>), UroborosCard(rank<3>,suit<heart>), UroborosCard(rank<3>,suit<club>), UroborosCard(rank<4>,suit<spade>), UroborosCard(rank<4>,suit<diamond>)]\n",
      "-------------------------------------\n",
      "iter pokers\n",
      "UroborosCard(rank<3>,suit<spade>)\n",
      "UroborosCard(rank<3>,suit<diamond>)\n",
      "UroborosPoker iter\n",
      "UroborosCard(rank<3>,suit<spade>)\n",
      "UroborosCard(rank<3>,suit<diamond>)\n",
      "UroborosCard(rank<3>,suit<heart>)\n",
      "UroborosCard(rank<3>,suit<club>)\n",
      "UroborosCard(rank<4>,suit<spade>)\n",
      "UroborosCard(rank<4>,suit<diamond>)\n",
      "UroborosCard(rank<4>,suit<heart>)\n",
      "UroborosCard(rank<4>,suit<club>)\n",
      "UroborosCard(rank<5>,suit<spade>)\n",
      "UroborosCard(rank<5>,suit<diamond>)\n",
      "UroborosCard(rank<5>,suit<heart>)\n",
      "UroborosCard(rank<5>,suit<club>)\n",
      "UroborosCard(rank<6>,suit<spade>)\n",
      "UroborosCard(rank<6>,suit<diamond>)\n",
      "UroborosCard(rank<6>,suit<heart>)\n",
      "UroborosCard(rank<6>,suit<club>)\n",
      "UroborosCard(rank<7>,suit<spade>)\n",
      "UroborosCard(rank<7>,suit<diamond>)\n",
      "UroborosCard(rank<7>,suit<heart>)\n",
      "UroborosCard(rank<7>,suit<club>)\n",
      "UroborosCard(rank<8>,suit<spade>)\n",
      "UroborosCard(rank<8>,suit<diamond>)\n",
      "UroborosCard(rank<8>,suit<heart>)\n",
      "UroborosCard(rank<8>,suit<club>)\n",
      "UroborosCard(rank<9>,suit<spade>)\n",
      "UroborosCard(rank<9>,suit<diamond>)\n",
      "UroborosCard(rank<9>,suit<heart>)\n",
      "UroborosCard(rank<9>,suit<club>)\n",
      "UroborosCard(rank<10>,suit<spade>)\n",
      "UroborosCard(rank<10>,suit<diamond>)\n",
      "UroborosCard(rank<10>,suit<heart>)\n",
      "UroborosCard(rank<10>,suit<club>)\n",
      "UroborosCard(rank<J>,suit<spade>)\n",
      "UroborosCard(rank<J>,suit<diamond>)\n",
      "UroborosCard(rank<J>,suit<heart>)\n",
      "UroborosCard(rank<J>,suit<club>)\n",
      "UroborosCard(rank<Q>,suit<spade>)\n",
      "UroborosCard(rank<Q>,suit<diamond>)\n",
      "UroborosCard(rank<Q>,suit<heart>)\n",
      "UroborosCard(rank<Q>,suit<club>)\n",
      "UroborosCard(rank<K>,suit<spade>)\n",
      "UroborosCard(rank<K>,suit<diamond>)\n",
      "UroborosCard(rank<K>,suit<heart>)\n",
      "UroborosCard(rank<K>,suit<club>)\n",
      "UroborosCard(rank<A>,suit<spade>)\n",
      "UroborosCard(rank<A>,suit<diamond>)\n",
      "UroborosCard(rank<A>,suit<heart>)\n",
      "UroborosCard(rank<A>,suit<club>)\n",
      "UroborosCard(rank<2>,suit<spade>)\n",
      "UroborosCard(rank<2>,suit<diamond>)\n",
      "UroborosCard(rank<2>,suit<heart>)\n",
      "UroborosCard(rank<2>,suit<club>)\n",
      "UroborosCard(rank<MAX>,suit<Black UROBOROS>)\n",
      "UroborosCard(rank<MAX>,suit<Red UROBOROS>)\n",
      "-------------------------------------\n",
      "del poker and del attr\n",
      "UroborosCard(rank<3>,suit<spade>)\n",
      "UroborosCard(rank<3>,suit<diamond>)\n",
      "history attr deleted\n"
     ]
    }
   ],
   "source": [
    "class UroborosCard:\n",
    "    '''\n",
    "-------------------------------------\n",
    "Description:\n",
    "UroborosCard Class defined by <Uroboros/Lisuchi>\n",
    "-------------------------------------\n",
    "    '''\n",
    "    def __init__(self, rank, suit):\n",
    "        self.__rank = rank\n",
    "        self.__suit = suit\n",
    "    \n",
    "    def __repr__(self):\n",
    "        return f\"UroborosCard(rank<{self.__rank}>,suit<{self.__suit}>)\"\n",
    "\n",
    "    @property\n",
    "    def rank(self):\n",
    "        return self.__rank\n",
    "    \n",
    "    @property\n",
    "    def suit(self):\n",
    "        return self.__suit\n",
    "\n",
    "\n",
    "class UroborosPoker:\n",
    "    '''\n",
    "-------------------------------------\n",
    "Description:\n",
    "UroborosPoker Class defined by <Uroboros/Lisuchi>\n",
    "\"spade > diamond > heart > club\"\n",
    "-------------------------------------\n",
    "    '''\n",
    "    __suits =  [\"spade\",\"diamond\",\"heart\",\"club\"]\n",
    "    __ranks = [str(n) for n in range(3,11)] + list(\"JQKA2\")\n",
    "    __special = [\"Black UROBOROS\",\"Red UROBOROS\"]\n",
    "\n",
    "    def __init__(self):\n",
    "        self.__pokers = [UroborosCard(rank, suit) for rank in self.__ranks for suit in self.__suits]\n",
    "        self.__pokers += [UroborosCard(\"MAX\", suit) for suit in self.__special]\n",
    "        self.__poker_idx = -1\n",
    "        self.history = []\n",
    "\n",
    "    def __len__(self):\n",
    "        return len(self.__pokers)\n",
    "\n",
    "    def __repr__(self):\n",
    "        cards_str = \" \".join([str(card) for card in self.__pokers])\n",
    "        poker_str = f\"UroborosPoker[{cards_str}]\"\n",
    "        return poker_str\n",
    "    \n",
    "    def __getitem__(self, key):\n",
    "        try:\n",
    "            return self.__pokers[key]\n",
    "        except TypeError:\n",
    "            print(\"UroborosPoker indices must be integers or slices\")\n",
    "\n",
    "    def __setitem__(self, key, value: UroborosCard):\n",
    "        if not isinstance(value, UroborosCard):\n",
    "            self.__pokers[key] = value\n",
    "        else:\n",
    "            raise TypeError(\"key and value must be int and UrobrosCard\")            \n",
    "\n",
    "    def __iter__(self):\n",
    "        print(\"UroborosPoker iter\")\n",
    "        self.__poker_idx = -1\n",
    "        return self\n",
    "\n",
    "    def __next__(self):\n",
    "        self.__poker_idx += 1\n",
    "        if self.__poker_idx >= self.__len__():\n",
    "            self.__poker_idx = -1\n",
    "            raise StopIteration()\n",
    "        return self.__pokers[self.__poker_idx]\n",
    "    \n",
    "    def __delitem__(self, key):\n",
    "        self.__pokers.pop(key)\n",
    "\n",
    "    def __delattr__(self, attr):\n",
    "        self.__dict__.pop(attr)\n",
    "\n",
    "    def shuffle(self):\n",
    "        from random import shuffle\n",
    "        #  shuffle需要将此类由{不变}变成{可变}的类型,即需要写出__setitem__方法\n",
    "        shuffle(self.__pokers)\n",
    "    \n",
    "    def choice(self):\n",
    "        from random import choice\n",
    "        # choice需要满足__getitem__方法\n",
    "        return choice(self.__pokers)\n",
    "\n",
    "    def rank_sort(self):\n",
    "        def score(card):\n",
    "            if card.suit in self.__suits:\n",
    "                return self.__suits.index(card.suit)/5 + self.__ranks.index(card.rank)\n",
    "            else:\n",
    "                return 52 + self.__special.index(card.suit)\n",
    "        self.__pokers = sorted(self.__pokers, key = score)\n",
    "\n",
    "    \n",
    "uroboros_poker = UroborosPoker()\n",
    "print(len(uroboros_poker))\n",
    "print(uroboros_poker.__doc__)\n",
    "try:\n",
    "    print(uroboros_poker.__pokers)\n",
    "except AttributeError:\n",
    "    print(\"__pokers is private attrs\") # 双下划线开头的是私有变量,外部无法访问\n",
    "\n",
    "print(\"-------------------------------------\")\n",
    "print(\"random choice in pokers\")\n",
    "print(uroboros_poker.choice())\n",
    "\n",
    "print(\"-------------------------------------\")\n",
    "print(\"shuffle pokers\")\n",
    "# print(uroboros_poker)\n",
    "print(uroboros_poker[:6])\n",
    "uroboros_poker.shuffle()\n",
    "print(uroboros_poker[:6])\n",
    "\n",
    "print(\"-------------------------------------\")\n",
    "print(\"sorted pokers\")\n",
    "uroboros_poker.rank_sort()\n",
    "print(uroboros_poker[:6])\n",
    "\n",
    "print(\"-------------------------------------\")\n",
    "print(\"iter pokers\")\n",
    "print(next(uroboros_poker))\n",
    "print(next(uroboros_poker))\n",
    "for card in uroboros_poker:\n",
    "    print(card)\n",
    "\n",
    "print(\"-------------------------------------\")\n",
    "print(\"del poker and del attr\")\n",
    "print(uroboros_poker[0])\n",
    "del uroboros_poker[0]\n",
    "print(uroboros_poker[0])\n",
    "del uroboros_poker.history\n",
    "try:\n",
    "    print(uroboros_poker.history)\n",
    "except:\n",
    "    print(\"history attr deleted\")"
   ]
  },
  {
   "cell_type": "markdown",
   "metadata": {},
   "source": [
    "## `__slots__`"
   ]
  },
  {
   "cell_type": "code",
   "execution_count": 21,
   "metadata": {},
   "outputs": [
    {
     "name": "stdout",
     "output_type": "stream",
     "text": [
      "cannot assign `z` to BaseCls's instance\n",
      "1\n"
     ]
    }
   ],
   "source": [
    "class BaseCls():\n",
    "    __slots__ = [\"x\", \"y\"]\n",
    "    def __init__(self):\n",
    "        self.x = 1\n",
    "        self.y = 1\n",
    "\n",
    "case = BaseCls()\n",
    "case.x = 1\n",
    "try:\n",
    "    case.z = 1\n",
    "except:\n",
    "    print(\"cannot assign `z` to BaseCls's instance\")\n",
    "\n",
    "BaseCls.__slots__.append(\"z\")\n",
    "case = BaseCls\n",
    "case.z = 1\n",
    "print(case.z)"
   ]
  },
  {
   "cell_type": "code",
   "execution_count": null,
   "metadata": {},
   "outputs": [],
   "source": []
  }
 ],
 "metadata": {
  "kernelspec": {
   "display_name": "Python 3.7.0 ('torch')",
   "language": "python",
   "name": "python3"
  },
  "language_info": {
   "codemirror_mode": {
    "name": "ipython",
    "version": 3
   },
   "file_extension": ".py",
   "mimetype": "text/x-python",
   "name": "python",
   "nbconvert_exporter": "python",
   "pygments_lexer": "ipython3",
   "version": "3.7.0"
  },
  "orig_nbformat": 4,
  "vscode": {
   "interpreter": {
    "hash": "f31b5846fe4d0e510ff280a80fa1fd1567c5c662c3b99a86eb737e0309da4a2e"
   }
  }
 },
 "nbformat": 4,
 "nbformat_minor": 2
}
