{
 "cells": [
  {
   "cell_type": "code",
   "execution_count": 6,
   "metadata": {},
   "outputs": [
    {
     "name": "stdout",
     "output_type": "stream",
     "text": [
      "{'c_x': 1, 'c_y': 2}\n",
      "{'c_x': 1, 'c_y': 2}\n",
      "----------------------------------------\n",
      "<super: <class 'A'>, <C object>>\n",
      "top_ax\n",
      "----------------------------------------\n",
      "{'c_x': 1, 'c_y': 2, 'a_x': 'top_ax', 'a_y': 'top_ay', 'b_x': 'top_bx', 'b_y': 'top_by'}\n",
      "----------------------------------------\n",
      "<super: <class 'C'>, <C object>>\n",
      "a_x\n",
      "----------------------------------------\n",
      "{'c_x': 1, 'c_y': 2, 'a_x': 'a_x', 'a_y': 'a_y', 'b_x': 'top_bx', 'b_y': 'top_by'}\n",
      "----------------------------------------\n",
      "(<class '__main__.C'>, <class '__main__.A'>, <class '__main__.TopCls'>, <class 'object'>)\n"
     ]
    }
   ],
   "source": [
    "class TopCls:\n",
    "    def __init__(self):\n",
    "        self.a_x = \"top_ax\"\n",
    "        self.a_y = \"top_ay\"\n",
    "        self.b_x = \"top_bx\"\n",
    "        self.b_y = \"top_by\"\n",
    "\n",
    "class A(TopCls):\n",
    "    def __init__(self):\n",
    "        self.a_x = \"a_x\"\n",
    "        self.a_y = \"a_y\"\n",
    "\n",
    "class B:\n",
    "    def __init__(self):\n",
    "        self.b_x = \"b_x\"\n",
    "        self.b_y = \"b_y\"\n",
    "\n",
    "class C(A):\n",
    "    def __init__(self):\n",
    "        self.c_x = 1\n",
    "        self.c_y = 2\n",
    "\n",
    "    def init_top(self):\n",
    "        super(A, self).__init__()\n",
    "        print(super(A,self))\n",
    "        print(self.a_x)\n",
    "        print(\"-\" * 40)\n",
    "\n",
    "    def init_a(self):\n",
    "        super().__init__()\n",
    "        print(super())\n",
    "        print(self.a_x)\n",
    "        print(\"-\" * 40)\n",
    "\n",
    "\n",
    "\n",
    "c = C()\n",
    "print(vars(c))\n",
    "print(c.__dict__)\n",
    "print(\"-\" * 40)\n",
    "c.init_top()\n",
    "print(c.__dict__)\n",
    "print(\"-\" * 40)\n",
    "c.init_a()\n",
    "print(c.__dict__)\n",
    "print(\"-\" * 40)\n",
    "print(C.__mro__)"
   ]
  }
 ],
 "metadata": {
  "kernelspec": {
   "display_name": "Python 3.7.0 ('torch')",
   "language": "python",
   "name": "python3"
  },
  "language_info": {
   "codemirror_mode": {
    "name": "ipython",
    "version": 3
   },
   "file_extension": ".py",
   "mimetype": "text/x-python",
   "name": "python",
   "nbconvert_exporter": "python",
   "pygments_lexer": "ipython3",
   "version": "3.7.0"
  },
  "orig_nbformat": 4,
  "vscode": {
   "interpreter": {
    "hash": "f31b5846fe4d0e510ff280a80fa1fd1567c5c662c3b99a86eb737e0309da4a2e"
   }
  }
 },
 "nbformat": 4,
 "nbformat_minor": 2
}
