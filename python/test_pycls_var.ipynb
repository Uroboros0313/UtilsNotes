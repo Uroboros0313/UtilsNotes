{
 "cells": [
  {
   "cell_type": "markdown",
   "metadata": {},
   "source": [
    "# 类变量/成员变量"
   ]
  },
  {
   "cell_type": "code",
   "execution_count": 24,
   "metadata": {},
   "outputs": [
    {
     "name": "stdout",
     "output_type": "stream",
     "text": [
      "**************************************************\n",
      "call cls_var from Cls: cls variable example\n",
      "**************************************************\n",
      "cal cls_var from instance: cls variable example\n",
      "**************************************************\n",
      "call cls_var form instance func:\n",
      "cls variable example\n",
      "**************************************************\n",
      "call mem_var from instance:pre_def member variable example\n"
     ]
    }
   ],
   "source": [
    "class BaseCls:\n",
    "    '''\n",
    "Docstring: Cls Variables\n",
    "    '''\n",
    "    cls_var = 'cls variable example'\n",
    "\n",
    "    def __init__(self):\n",
    "        self.pre_def_mem_var = 'pre_def member variable example'\n",
    "    \n",
    "    def cls_var_print(self):\n",
    "        print(self.cls_var)\n",
    "\n",
    "    def declare_mem_var(self):\n",
    "        self.post_def_mem_var = 'post_def member variable example'\n",
    "\n",
    "case = BaseCls()\n",
    "print(\"*\" * 50)\n",
    "print(f\"call cls_var from Cls: {BaseCls.cls_var}\")\n",
    "print(\"*\" * 50)\n",
    "print(f\"cal cls_var from instance: {case.cls_var}\")\n",
    "print(\"*\" * 50)\n",
    "print(f\"call cls_var form instance func:\")\n",
    "case.cls_var_print()\n",
    "print(\"*\" * 50)\n",
    "print(f\"call mem_var from instance:{case.pre_def_mem_var}\")  "
   ]
  },
  {
   "cell_type": "markdown",
   "metadata": {},
   "source": [
    "# 类变量共享范围"
   ]
  },
  {
   "cell_type": "code",
   "execution_count": 25,
   "metadata": {},
   "outputs": [
    {
     "name": "stdout",
     "output_type": "stream",
     "text": [
      "**********\n",
      "10\n",
      "20\n",
      "30\n",
      "**********\n",
      "10\n",
      "10\n",
      "10\n",
      "**********\n",
      "20\n",
      "30\n",
      "40\n",
      "10\n"
     ]
    }
   ],
   "source": [
    "class BaseCounter:\n",
    "    shared_counter = 0\n",
    "    def __init__(self):\n",
    "        self.private_counter = 0\n",
    "\n",
    "    def add(self,value):\n",
    "        self.private_counter += value\n",
    "    \n",
    "    def add_shared(self,value):\n",
    "        self.shared_counter += value\n",
    "\n",
    "counter_1 = BaseCounter()\n",
    "counter_2 = BaseCounter()\n",
    "counter_3 = BaseCounter()\n",
    "\n",
    "counter_1.add(10)\n",
    "counter_2.add(20)\n",
    "counter_3.add(30)\n",
    "print(\"*\" * 10)\n",
    "print(counter_1.private_counter)\n",
    "print(counter_2.private_counter)\n",
    "print(counter_3.private_counter)\n",
    "\n",
    "print(\"*\" * 10)\n",
    "BaseCounter.shared_counter += 10\n",
    "print(counter_1.shared_counter)\n",
    "print(counter_2.shared_counter)\n",
    "print(counter_3.shared_counter)\n",
    "\n",
    "print(\"*\" * 10)\n",
    "# 实例化以后无法修改,因此add_shared方法只是创建了一个实例变量self.shared_counter = BaseCounter.shared_counter + value\n",
    "counter_1.add_shared(10) \n",
    "counter_2.add_shared(20)\n",
    "counter_3.add_shared(30)\n",
    "print(counter_1.shared_counter)\n",
    "print(counter_2.shared_counter)\n",
    "print(counter_3.shared_counter)\n",
    "print(BaseCounter.shared_counter)"
   ]
  },
  {
   "cell_type": "markdown",
   "metadata": {},
   "source": [
    "# 打印\n",
    "\n",
    "1. 返回类名         \n",
    "`self.__class__.__name__`\n",
    "\n",
    "1. 返回实例属性      \n",
    "`self.__dict__`\n",
    "\n",
    "1. 返回类的Docstring    \n",
    "`self.__doc__`"
   ]
  },
  {
   "cell_type": "code",
   "execution_count": 26,
   "metadata": {},
   "outputs": [
    {
     "name": "stdout",
     "output_type": "stream",
     "text": [
      "********************\n",
      "StructType\n",
      "********************\n",
      "{'attr_numeric': 0, 'attr_list': [], 'attr_dict': {}, 'attr_set': {}}\n",
      "********************\n",
      "\n",
      "Description:\n",
      "\n",
      "This Class `StructType` is for Learning usage\n",
      "    \n"
     ]
    }
   ],
   "source": [
    "class StructType():\n",
    "    \"\"\"\n",
    "Description:\n",
    "\n",
    "This Class `StructType` is for Learning usage\n",
    "    \"\"\"\n",
    "    def __init__(self):\n",
    "\n",
    "        self.attr_numeric = 0 \n",
    "        self.attr_list = []\n",
    "        self.attr_dict = dict()\n",
    "        self.attr_set = {}\n",
    "\n",
    "udd_0 = StructType()\n",
    "print(\"*\" * 20)\n",
    "print(udd_0.__class__.__name__)\n",
    "print(\"*\" * 20)\n",
    "print(udd_0.__dict__)\n",
    "print(\"*\" * 20)\n",
    "print(udd_0.__doc__)"
   ]
  }
 ],
 "metadata": {
  "kernelspec": {
   "display_name": "Python 3.7.0 ('torch')",
   "language": "python",
   "name": "python3"
  },
  "language_info": {
   "codemirror_mode": {
    "name": "ipython",
    "version": 3
   },
   "file_extension": ".py",
   "mimetype": "text/x-python",
   "name": "python",
   "nbconvert_exporter": "python",
   "pygments_lexer": "ipython3",
   "version": "3.7.0"
  },
  "orig_nbformat": 4,
  "vscode": {
   "interpreter": {
    "hash": "f31b5846fe4d0e510ff280a80fa1fd1567c5c662c3b99a86eb737e0309da4a2e"
   }
  }
 },
 "nbformat": 4,
 "nbformat_minor": 2
}
