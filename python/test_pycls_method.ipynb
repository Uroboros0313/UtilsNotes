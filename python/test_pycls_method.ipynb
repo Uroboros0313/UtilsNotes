{
 "cells": [
  {
   "cell_type": "code",
   "execution_count": 5,
   "metadata": {},
   "outputs": [
    {
     "name": "stdout",
     "output_type": "stream",
     "text": [
      "512.0\n",
      "1024.0\n",
      "BaseClass object has no attribute baseattr\n"
     ]
    }
   ],
   "source": [
    "class BaseClass:\n",
    "    def __init__(self):\n",
    "        self.baseattr = 1024\n",
    "        self.frac = 0.5\n",
    "    @property\n",
    "    def baseprop(self):\n",
    "        return self.baseattr * self.frac\n",
    "\n",
    "    @baseprop.setter\n",
    "    def baseprop(self, newattr):\n",
    "        self.baseattr = newattr\n",
    "\n",
    "    @baseprop.deleter\n",
    "    def baseprop(self):\n",
    "        del self.baseattr\n",
    "\n",
    "base_inst = BaseClass()\n",
    "print(base_inst.baseprop) # 512.0\n",
    "base_inst.baseprop = 2048\n",
    "print(base_inst.baseprop) # 1024.0\n",
    "del base_inst.baseprop\n",
    "try:\n",
    "    print(base_inst.baseprop) # 'BaseClass' object has no attribute 'baseattr'\n",
    "except AttributeError:\n",
    "    print('BaseClass object has no attribute baseattr')"
   ]
  }
 ],
 "metadata": {
  "kernelspec": {
   "display_name": "Python 3.7.0 ('torch')",
   "language": "python",
   "name": "python3"
  },
  "language_info": {
   "codemirror_mode": {
    "name": "ipython",
    "version": 3
   },
   "file_extension": ".py",
   "mimetype": "text/x-python",
   "name": "python",
   "nbconvert_exporter": "python",
   "pygments_lexer": "ipython3",
   "version": "3.7.0"
  },
  "orig_nbformat": 4,
  "vscode": {
   "interpreter": {
    "hash": "f31b5846fe4d0e510ff280a80fa1fd1567c5c662c3b99a86eb737e0309da4a2e"
   }
  }
 },
 "nbformat": 4,
 "nbformat_minor": 2
}
