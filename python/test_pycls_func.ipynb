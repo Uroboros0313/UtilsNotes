{
 "cells": [
  {
   "cell_type": "markdown",
   "metadata": {},
   "source": [
    "# 魔术方法"
   ]
  },
  {
   "cell_type": "markdown",
   "metadata": {},
   "source": [
    "## `__new__`"
   ]
  },
  {
   "cell_type": "code",
   "execution_count": 82,
   "metadata": {},
   "outputs": [
    {
     "name": "stdout",
     "output_type": "stream",
     "text": [
      "rewrite `__new__` to print INFO\n",
      "`__init__` runs after `__new__`\n"
     ]
    }
   ],
   "source": [
    "class BaseCls:\n",
    "    def __init__(self):\n",
    "        print(\"`__init__` runs after `__new__`\")\n",
    "        \n",
    "    def __new__(cls, *args, **kwargs):\n",
    "        print(\"rewrite `__new__` to print INFO\")\n",
    "        return super().__new__(cls,*args,**kwargs)\n",
    "\n",
    "base_cls = BaseCls()"
   ]
  },
  {
   "cell_type": "markdown",
   "metadata": {},
   "source": [
    "## `__call__`"
   ]
  },
  {
   "cell_type": "code",
   "execution_count": 83,
   "metadata": {},
   "outputs": [
    {
     "name": "stdout",
     "output_type": "stream",
     "text": [
      "call CLS instance as func\n"
     ]
    }
   ],
   "source": [
    "class BaseCls:\n",
    "    def __init__(self):\n",
    "        pass\n",
    "\n",
    "    def __call__(self, *args, **kwargs):\n",
    "        print(\"call CLS instance as func\")\n",
    "\n",
    "base_cls = BaseCls()\n",
    "base_cls()"
   ]
  },
  {
   "cell_type": "markdown",
   "metadata": {},
   "source": [
    "## `__len__`"
   ]
  },
  {
   "cell_type": "code",
   "execution_count": 84,
   "metadata": {},
   "outputs": [
    {
     "name": "stdout",
     "output_type": "stream",
     "text": [
      "rewrite `__len__` func\n",
      "48\n"
     ]
    }
   ],
   "source": [
    "from collections import defaultdict\n",
    "\n",
    "class Query2KeyValueType():\n",
    "    def __init__(self):\n",
    "        self.q2kv_dict = defaultdict(dict)\n",
    "    \n",
    "    def __len__(self):\n",
    "        print(\"rewrite `__len__` func\")\n",
    "        value_count = 0\n",
    "        for kv in self.q2kv_dict.values():\n",
    "            for v in kv.values():\n",
    "                value_count += len(v)\n",
    "        return value_count\n",
    "\n",
    "q2kv = Query2KeyValueType()\n",
    "for i in range(3):\n",
    "    for j in range(4):\n",
    "        q2kv.q2kv_dict[i][j]=list(range(4))\n",
    "print(len(q2kv))"
   ]
  },
  {
   "cell_type": "markdown",
   "metadata": {},
   "source": [
    "## `__repr__/__str__`"
   ]
  },
  {
   "cell_type": "code",
   "execution_count": 85,
   "metadata": {},
   "outputs": [
    {
     "name": "stdout",
     "output_type": "stream",
     "text": [
      "<__main__.StructDict object at 0x000001C4BD934240>\n",
      "StructDict\n",
      "StructDict(struct(key:0,value:0),struct(key:1,value:1),struct(key:2,value:4))\n",
      "StructDict\n"
     ]
    },
    {
     "data": {
      "text/plain": [
       "StructDict(struct(key:0,value:0),struct(key:1,value:1),struct(key:2,value:4))"
      ]
     },
     "execution_count": 85,
     "metadata": {},
     "output_type": "execute_result"
    }
   ],
   "source": [
    "class StructDict():\n",
    "    def __init__(self,):\n",
    "        self.struct_dict = dict()\n",
    "        \n",
    "    def __getitem__(self,key):\n",
    "        return self.struct_dict.get(key, None)\n",
    "\n",
    "\n",
    "class StructPrinter(StructDict):\n",
    "    def __init__(self,):\n",
    "        super().__init__()\n",
    "    \n",
    "    def __repr__(self,):\n",
    "        content = ','.join([f'struct(key:{k},value:{v})' for k,v in self.struct_dict.items()])\n",
    "        return f\"StructDict({content})\"\n",
    "    \n",
    "    def __str__(self,):\n",
    "        return \"StructDict\"\n",
    "\n",
    "udd_1 = StructDict()\n",
    "udd_1.struct_dict = dict([(key, key**2) for key in range(10)])\n",
    "udd_2 = StructPrinter()\n",
    "udd_2.struct_dict = dict([(key, key**2) for key in range(3)])\n",
    "print(udd_1)\n",
    "print(udd_2)\n",
    "print(repr(udd_2))\n",
    "print(str(udd_2))\n",
    "udd_2"
   ]
  },
  {
   "cell_type": "markdown",
   "metadata": {},
   "source": [
    "## `__eq__`"
   ]
  },
  {
   "cell_type": "code",
   "execution_count": 86,
   "metadata": {},
   "outputs": [
    {
     "name": "stdout",
     "output_type": "stream",
     "text": [
      "rewrite `__eq__`, determine how to evaluate if `self == obj`\n",
      "True\n"
     ]
    }
   ],
   "source": [
    "class BaseCls:\n",
    "    def __init__(self, value = 1):\n",
    "        self.value = value\n",
    "    def __eq__(self,obj):\n",
    "        print(\"rewrite `__eq__`, determine how to evaluate if `self == obj`\")\n",
    "        return self.value ** 2 == obj.value ** 2\n",
    "\n",
    "case_1 = BaseCls(value = 1)\n",
    "case_2 = BaseCls(value = -1)\n",
    "print(case_1 == case_2)"
   ]
  },
  {
   "cell_type": "markdown",
   "metadata": {},
   "source": [
    "## `__hash__`"
   ]
  },
  {
   "cell_type": "code",
   "execution_count": 87,
   "metadata": {},
   "outputs": [
    {
     "name": "stdout",
     "output_type": "stream",
     "text": [
      "rewrite `__hash__`, use cls name to calculate hash value\n",
      "-7504890204225755009\n"
     ]
    }
   ],
   "source": [
    "class BaseCls:\n",
    "    def __init__(self,value = 1):\n",
    "        self.value = value\n",
    "    def __hash__(self):\n",
    "        print(\"rewrite `__hash__`, use cls name to calculate hash value\")\n",
    "        return hash(self.__class__.__name__)\n",
    "\n",
    "case = BaseCls()\n",
    "print(hash(case))"
   ]
  },
  {
   "cell_type": "markdown",
   "metadata": {},
   "source": [
    "## `__getitem__`,`__setitem__`"
   ]
  },
  {
   "cell_type": "code",
   "execution_count": 88,
   "metadata": {},
   "outputs": [
    {
     "name": "stdout",
     "output_type": "stream",
     "text": [
      "1\n",
      "81\n"
     ]
    }
   ],
   "source": [
    "class StructDict():\n",
    "    def __init__(self,):\n",
    "        self.struct_dict = dict()\n",
    "        \n",
    "    def __getitem__(self,key):\n",
    "        return self.struct_dict.get(key, None)\n",
    "\n",
    "udd_1 = StructDict()\n",
    "udd_1.struct_dict = dict([(key, key**2) for key in range(10)])\n",
    "print(udd_1[1])\n",
    "print(udd_1[9])"
   ]
  },
  {
   "cell_type": "markdown",
   "metadata": {},
   "source": [
    "## `__iter__`,`__next__`"
   ]
  },
  {
   "cell_type": "code",
   "execution_count": 89,
   "metadata": {},
   "outputs": [
    {
     "name": "stdout",
     "output_type": "stream",
     "text": [
      "54\n",
      "\n",
      "-------------------------------------\n",
      "Description:\n",
      "UroborosPoker Class defined by <Uroboros/Lisuchi>\n",
      "-------------------------------------\n",
      "    \n",
      "__pokers is private attrs\n"
     ]
    }
   ],
   "source": [
    "class UroborosCard:\n",
    "    def __init__(self, rank, suit):\n",
    "        self.__rank = rank\n",
    "        self.__suit = suit\n",
    "    \n",
    "    def __repr__(self):\n",
    "        return f\"Poker(rank<{self.__rank}>,suit<{self.__suit}>)\"\n",
    "\n",
    "class UroborosPoker:\n",
    "    '''\n",
    "-------------------------------------\n",
    "Description:\n",
    "UroborosPoker Class defined by <Uroboros/Lisuchi>\n",
    "-------------------------------------\n",
    "    '''\n",
    "    __suits =  [\"spade\",\"diamond\",\"heart\",\"club\"]\n",
    "    __ranks = [str(n) for n in range(2,11)] + list(\"JQKA\")\n",
    "    \n",
    "    # TODO: 实现洗牌,for循环迭代当前序列等功能\n",
    "    def __init__(self):\n",
    "        self.__pokers = [UroborosCard(rank, suit) for suit in self.__suits for rank in self.__ranks]\n",
    "        self.__pokers += [UroborosCard(\"maximum\",\"RED UROBOROS\"),UroborosCard(\"maximum\",\"BLACK UROBOROS\")]\n",
    "    \n",
    "    def __len__(self):\n",
    "        return len(self.__pokers)\n",
    "    \n",
    "pokerset = UroborosPoker()\n",
    "print(len(pokerset))\n",
    "print(pokerset.__doc__)\n",
    "try:\n",
    "    print(pokerset.__pokers)\n",
    "except AttributeError:\n",
    "    print(\"__pokers is private attrs\") # 双下划线开头的是私有变量,外部无法访问"
   ]
  },
  {
   "cell_type": "code",
   "execution_count": null,
   "metadata": {},
   "outputs": [],
   "source": []
  },
  {
   "cell_type": "code",
   "execution_count": null,
   "metadata": {},
   "outputs": [],
   "source": []
  }
 ],
 "metadata": {
  "kernelspec": {
   "display_name": "Python 3.7.0 ('torch')",
   "language": "python",
   "name": "python3"
  },
  "language_info": {
   "codemirror_mode": {
    "name": "ipython",
    "version": 3
   },
   "file_extension": ".py",
   "mimetype": "text/x-python",
   "name": "python",
   "nbconvert_exporter": "python",
   "pygments_lexer": "ipython3",
   "version": "3.7.0"
  },
  "orig_nbformat": 4,
  "vscode": {
   "interpreter": {
    "hash": "f31b5846fe4d0e510ff280a80fa1fd1567c5c662c3b99a86eb737e0309da4a2e"
   }
  }
 },
 "nbformat": 4,
 "nbformat_minor": 2
}
