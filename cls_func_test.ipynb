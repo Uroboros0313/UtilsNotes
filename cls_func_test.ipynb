{
 "cells": [
  {
   "cell_type": "markdown",
   "metadata": {},
   "source": [
    "# 类相关信息"
   ]
  },
  {
   "cell_type": "markdown",
   "metadata": {},
   "source": [
    "1. 返回类名         \n",
    "`self.__class__.__name__`\n",
    "\n",
    "1. 返回实例属性      \n",
    "`self.__dict__`\n",
    "\n",
    "1. 返回类的Docstring    \n",
    "`self.__doc__`"
   ]
  },
  {
   "cell_type": "code",
   "execution_count": 69,
   "metadata": {},
   "outputs": [
    {
     "name": "stdout",
     "output_type": "stream",
     "text": [
      "********************\n",
      "StructType\n",
      "********************\n",
      "{'attr_numeric': 0, 'attr_list': [], 'attr_dict': {}, 'attr_set': {}}\n",
      "********************\n",
      "\n",
      "Description:\n",
      "\n",
      "This Class `StructType` is for Learning usage\n",
      "    \n"
     ]
    }
   ],
   "source": [
    "class StructType():\n",
    "    \"\"\"\n",
    "Description:\n",
    "\n",
    "This Class `StructType` is for Learning usage\n",
    "    \"\"\"\n",
    "    def __init__(self):\n",
    "\n",
    "        self.attr_numeric = 0 \n",
    "        self.attr_list = []\n",
    "        self.attr_dict = dict()\n",
    "        self.attr_set = {}\n",
    "\n",
    "udd_0 = StructType()\n",
    "print(\"*\" * 20)\n",
    "print(udd_0.__class__.__name__)\n",
    "print(\"*\" * 20)\n",
    "print(udd_0.__dict__)\n",
    "print(\"*\" * 20)\n",
    "print(udd_0.__doc__)"
   ]
  },
  {
   "cell_type": "markdown",
   "metadata": {},
   "source": [
    "# 魔术方法"
   ]
  },
  {
   "cell_type": "markdown",
   "metadata": {},
   "source": [
    "## `__new__`"
   ]
  },
  {
   "cell_type": "code",
   "execution_count": 70,
   "metadata": {},
   "outputs": [
    {
     "name": "stdout",
     "output_type": "stream",
     "text": [
      "rewrite `__new__` to print INFO\n",
      "`__init__` runs after `__new__`\n"
     ]
    }
   ],
   "source": [
    "class BaseCls:\n",
    "    def __init__(self):\n",
    "        print(\"`__init__` runs after `__new__`\")\n",
    "        \n",
    "    def __new__(cls, *args, **kwargs):\n",
    "        print(\"rewrite `__new__` to print INFO\")\n",
    "        return super().__new__(cls,*args,**kwargs)\n",
    "\n",
    "base_cls = BaseCls()"
   ]
  },
  {
   "cell_type": "markdown",
   "metadata": {},
   "source": [
    "## `__call__`"
   ]
  },
  {
   "cell_type": "code",
   "execution_count": 71,
   "metadata": {},
   "outputs": [
    {
     "name": "stdout",
     "output_type": "stream",
     "text": [
      "call CLS instance as func\n"
     ]
    }
   ],
   "source": [
    "class BaseCls:\n",
    "    def __init__(self):\n",
    "        pass\n",
    "\n",
    "    def __call__(self, *args, **kwargs):\n",
    "        print(\"call CLS instance as func\")\n",
    "\n",
    "base_cls = BaseCls()\n",
    "base_cls()"
   ]
  },
  {
   "cell_type": "markdown",
   "metadata": {},
   "source": [
    "## `__len__`"
   ]
  },
  {
   "cell_type": "code",
   "execution_count": 72,
   "metadata": {},
   "outputs": [
    {
     "name": "stdout",
     "output_type": "stream",
     "text": [
      "rewrite `__len__` func\n",
      "48\n"
     ]
    }
   ],
   "source": [
    "from collections import defaultdict\n",
    "\n",
    "class Query2KeyValueType():\n",
    "    def __init__(self):\n",
    "        self.q2kv_dict = defaultdict(dict)\n",
    "    \n",
    "    def __len__(self):\n",
    "        print(\"rewrite `__len__` func\")\n",
    "        value_count = 0\n",
    "        for kv in self.q2kv_dict.values():\n",
    "            for v in kv.values():\n",
    "                value_count += len(v)\n",
    "        return value_count\n",
    "\n",
    "q2kv = Query2KeyValueType()\n",
    "for i in range(3):\n",
    "    for j in range(4):\n",
    "        q2kv.q2kv_dict[i][j]=list(range(4))\n",
    "print(len(q2kv))"
   ]
  },
  {
   "cell_type": "markdown",
   "metadata": {},
   "source": [
    "## `__repr__/__str__`"
   ]
  },
  {
   "cell_type": "code",
   "execution_count": 73,
   "metadata": {},
   "outputs": [
    {
     "name": "stdout",
     "output_type": "stream",
     "text": [
      "<__main__.StructDict object at 0x0000022C58B41F60>\n",
      "StructDict\n",
      "StructDict(struct(key:0,value:0),struct(key:1,value:1),struct(key:2,value:4))\n",
      "StructDict\n"
     ]
    },
    {
     "data": {
      "text/plain": [
       "StructDict(struct(key:0,value:0),struct(key:1,value:1),struct(key:2,value:4))"
      ]
     },
     "execution_count": 73,
     "metadata": {},
     "output_type": "execute_result"
    }
   ],
   "source": [
    "class StructPrinter(StructDict):\n",
    "    def __init__(self,):\n",
    "        super().__init__()\n",
    "    \n",
    "    def __repr__(self,):\n",
    "        content = ','.join([f'struct(key:{k},value:{v})' for k,v in self.struct_dict.items()])\n",
    "        return f\"StructDict({content})\"\n",
    "    \n",
    "    def __str__(self,):\n",
    "        return \"StructDict\"\n",
    "\n",
    "udd_2 = StructPrinter()\n",
    "udd_2.struct_dict = dict([(key, key**2) for key in range(3)])\n",
    "print(udd_1)\n",
    "print(udd_2)\n",
    "print(repr(udd_2))\n",
    "print(str(udd_2))\n",
    "udd_2"
   ]
  },
  {
   "cell_type": "markdown",
   "metadata": {},
   "source": [
    "## `__eq__`"
   ]
  },
  {
   "cell_type": "code",
   "execution_count": 74,
   "metadata": {},
   "outputs": [
    {
     "name": "stdout",
     "output_type": "stream",
     "text": [
      "rewrite `__eq__`, determine how to evaluate if `self == obj`\n",
      "True\n"
     ]
    }
   ],
   "source": [
    "class BaseCls:\n",
    "    def __init__(self, value = 1):\n",
    "        self.value = value\n",
    "    def __eq__(self,obj):\n",
    "        print(\"rewrite `__eq__`, determine how to evaluate if `self == obj`\")\n",
    "        return self.value ** 2 == obj.value ** 2\n",
    "\n",
    "case_1 = BaseCls(value = 1)\n",
    "case_2 = BaseCls(value = -1)\n",
    "print(case_1 == case_2)"
   ]
  },
  {
   "cell_type": "markdown",
   "metadata": {},
   "source": [
    "## `__hash__`"
   ]
  },
  {
   "cell_type": "code",
   "execution_count": 78,
   "metadata": {},
   "outputs": [
    {
     "name": "stdout",
     "output_type": "stream",
     "text": [
      "rewrite `__hash__`, use cls name to calculate hash value\n",
      "-4023088111989652003\n"
     ]
    }
   ],
   "source": [
    "class BaseCls:\n",
    "    def __init__(self,value = 1):\n",
    "        self.value = value\n",
    "    def __hash__(self):\n",
    "        print(\"rewrite `__hash__`, use cls name to calculate hash value\")\n",
    "        return hash(self.__class__.__name__)\n",
    "\n",
    "case = BaseCls()\n",
    "print(hash(case))"
   ]
  },
  {
   "cell_type": "markdown",
   "metadata": {},
   "source": [
    "## `__getitem__`"
   ]
  },
  {
   "cell_type": "code",
   "execution_count": 75,
   "metadata": {},
   "outputs": [
    {
     "name": "stdout",
     "output_type": "stream",
     "text": [
      "1\n",
      "81\n"
     ]
    }
   ],
   "source": [
    "class StructDict():\n",
    "    def __init__(self,):\n",
    "        self.struct_dict = dict()\n",
    "        \n",
    "    def __getitem__(self,key):\n",
    "        return self.struct_dict.get(key, None)\n",
    "\n",
    "udd_1 = StructDict()\n",
    "udd_1.struct_dict = dict([(key, key**2) for key in range(10)])\n",
    "print(udd_1[1])\n",
    "print(udd_1[9])"
   ]
  }
 ],
 "metadata": {
  "kernelspec": {
   "display_name": "Python 3.7.0 ('torch')",
   "language": "python",
   "name": "python3"
  },
  "language_info": {
   "codemirror_mode": {
    "name": "ipython",
    "version": 3
   },
   "file_extension": ".py",
   "mimetype": "text/x-python",
   "name": "python",
   "nbconvert_exporter": "python",
   "pygments_lexer": "ipython3",
   "version": "3.7.0"
  },
  "orig_nbformat": 4,
  "vscode": {
   "interpreter": {
    "hash": "f31b5846fe4d0e510ff280a80fa1fd1567c5c662c3b99a86eb737e0309da4a2e"
   }
  }
 },
 "nbformat": 4,
 "nbformat_minor": 2
}
